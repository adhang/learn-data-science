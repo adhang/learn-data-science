{
 "cells": [
  {
   "cell_type": "markdown",
   "id": "82d2781d",
   "metadata": {
    "papermill": {
     "duration": 0.09274,
     "end_time": "2022-02-11T10:03:54.764140",
     "exception": false,
     "start_time": "2022-02-11T10:03:54.671400",
     "status": "completed"
    },
    "tags": []
   },
   "source": [
    "# 1. Introduction\n",
    "Author: Adhang Muntaha Muhammad\n",
    "\n",
    "[GitHub](https://github.com/adhang)\n",
    "|\n",
    "[LinkedIn](https://www.linkedin.com/in/adhangmuntaha/)\n",
    "|\n",
    "[Kaggle](https://www.kaggle.com/adhang)"
   ]
  },
  {
   "cell_type": "markdown",
   "id": "e7c7d55d",
   "metadata": {
    "papermill": {
     "duration": 0.058791,
     "end_time": "2022-02-11T10:03:54.913533",
     "exception": false,
     "start_time": "2022-02-11T10:03:54.854742",
     "status": "completed"
    },
    "tags": []
   },
   "source": [
    "## About This Project\n",
    "I got this dataset from UCI Mahine Learning. This dataset contains information about iris flowers: Iris Setosa, Iris Versicolor, and Iris Virginica. In this dataset, iris flowers are classified by petal and sepal size (length & width). In this project, I want to use a machine learning model to classify iris flowers based on petal and sepal size."
   ]
  },
  {
   "cell_type": "markdown",
   "id": "caf4cab4",
   "metadata": {
    "papermill": {
     "duration": 0.063236,
     "end_time": "2022-02-11T10:03:55.045811",
     "exception": false,
     "start_time": "2022-02-11T10:03:54.982575",
     "status": "completed"
    },
    "tags": []
   },
   "source": [
    "## Objectives\n",
    "- Dataset exploration\n",
    "- Build a machine learning model using K-Nearest Neighbors (KNN) to predict iris species"
   ]
  },
  {
   "cell_type": "markdown",
   "id": "03e0c322",
   "metadata": {
    "papermill": {
     "duration": 0.058674,
     "end_time": "2022-02-11T10:03:55.162554",
     "exception": false,
     "start_time": "2022-02-11T10:03:55.103880",
     "status": "completed"
    },
    "tags": []
   },
   "source": [
    "## Dataset Description\n",
    "This dataset contains 6 columns:\n",
    "- `Id` - to identify each record\n",
    "- Continuous data\n",
    "    - `SepalLengthCm` - iris sepal length in centimeter\n",
    "    - `SepalWidthCm` - iris sepal width in centimeter\n",
    "    - `PetalLengthCm` - iris petal length in centimeter\n",
    "    - `PetalWidthCm` - iris petal width in centimeter\n",
    "- Categorical data\n",
    "    - `Species` - iris species name"
   ]
  },
  {
   "cell_type": "markdown",
   "id": "07d6361c",
   "metadata": {
    "papermill": {
     "duration": 0.055907,
     "end_time": "2022-02-11T10:03:55.277770",
     "exception": false,
     "start_time": "2022-02-11T10:03:55.221863",
     "status": "completed"
    },
    "tags": []
   },
   "source": [
    "# 2. Importing Libraries"
   ]
  },
  {
   "cell_type": "code",
   "execution_count": 1,
   "id": "84025eab",
   "metadata": {
    "execution": {
     "iopub.execute_input": "2022-02-11T10:03:55.401535Z",
     "iopub.status.busy": "2022-02-11T10:03:55.400286Z",
     "iopub.status.idle": "2022-02-11T10:03:56.971363Z",
     "shell.execute_reply": "2022-02-11T10:03:56.970347Z",
     "shell.execute_reply.started": "2022-02-11T09:48:47.185987Z"
    },
    "papermill": {
     "duration": 1.634084,
     "end_time": "2022-02-11T10:03:56.971557",
     "exception": false,
     "start_time": "2022-02-11T10:03:55.337473",
     "status": "completed"
    },
    "tags": []
   },
   "outputs": [],
   "source": [
    "import numpy as np\n",
    "import pandas as pd\n",
    "\n",
    "import matplotlib.pyplot as plt\n",
    "import seaborn as sns\n",
    "\n",
    "from sklearn.model_selection import train_test_split\n",
    "from sklearn.neighbors import KNeighborsClassifier\n",
    "from sklearn.metrics import classification_report\n",
    "from sklearn.metrics import accuracy_score\n",
    "from sklearn.metrics import confusion_matrix\n",
    "from sklearn.model_selection import GridSearchCV\n",
    "\n",
    "sns.set_theme()"
   ]
  },
  {
   "cell_type": "markdown",
   "id": "45680545",
   "metadata": {
    "papermill": {
     "duration": 0.055339,
     "end_time": "2022-02-11T10:03:57.082996",
     "exception": false,
     "start_time": "2022-02-11T10:03:57.027657",
     "status": "completed"
    },
    "tags": []
   },
   "source": [
    "# 3. Reading Dataset\n",
    "This dataset is in CSV format, we can use `pandas` to read this dataset."
   ]
  },
  {
   "cell_type": "code",
   "execution_count": 2,
   "id": "ebc5686b",
   "metadata": {
    "execution": {
     "iopub.execute_input": "2022-02-11T10:03:57.200778Z",
     "iopub.status.busy": "2022-02-11T10:03:57.200036Z",
     "iopub.status.idle": "2022-02-11T10:03:57.237351Z",
     "shell.execute_reply": "2022-02-11T10:03:57.237887Z",
     "shell.execute_reply.started": "2022-02-11T09:48:47.94915Z"
    },
    "papermill": {
     "duration": 0.099642,
     "end_time": "2022-02-11T10:03:57.238076",
     "exception": false,
     "start_time": "2022-02-11T10:03:57.138434",
     "status": "completed"
    },
    "tags": []
   },
   "outputs": [
    {
     "data": {
      "text/html": [
       "<div>\n",
       "<style scoped>\n",
       "    .dataframe tbody tr th:only-of-type {\n",
       "        vertical-align: middle;\n",
       "    }\n",
       "\n",
       "    .dataframe tbody tr th {\n",
       "        vertical-align: top;\n",
       "    }\n",
       "\n",
       "    .dataframe thead th {\n",
       "        text-align: right;\n",
       "    }\n",
       "</style>\n",
       "<table border=\"1\" class=\"dataframe\">\n",
       "  <thead>\n",
       "    <tr style=\"text-align: right;\">\n",
       "      <th></th>\n",
       "      <th>Id</th>\n",
       "      <th>SepalLengthCm</th>\n",
       "      <th>SepalWidthCm</th>\n",
       "      <th>PetalLengthCm</th>\n",
       "      <th>PetalWidthCm</th>\n",
       "      <th>Species</th>\n",
       "    </tr>\n",
       "  </thead>\n",
       "  <tbody>\n",
       "    <tr>\n",
       "      <th>0</th>\n",
       "      <td>1</td>\n",
       "      <td>5.1</td>\n",
       "      <td>3.5</td>\n",
       "      <td>1.4</td>\n",
       "      <td>0.2</td>\n",
       "      <td>Iris-setosa</td>\n",
       "    </tr>\n",
       "    <tr>\n",
       "      <th>1</th>\n",
       "      <td>2</td>\n",
       "      <td>4.9</td>\n",
       "      <td>3.0</td>\n",
       "      <td>1.4</td>\n",
       "      <td>0.2</td>\n",
       "      <td>Iris-setosa</td>\n",
       "    </tr>\n",
       "    <tr>\n",
       "      <th>2</th>\n",
       "      <td>3</td>\n",
       "      <td>4.7</td>\n",
       "      <td>3.2</td>\n",
       "      <td>1.3</td>\n",
       "      <td>0.2</td>\n",
       "      <td>Iris-setosa</td>\n",
       "    </tr>\n",
       "    <tr>\n",
       "      <th>3</th>\n",
       "      <td>4</td>\n",
       "      <td>4.6</td>\n",
       "      <td>3.1</td>\n",
       "      <td>1.5</td>\n",
       "      <td>0.2</td>\n",
       "      <td>Iris-setosa</td>\n",
       "    </tr>\n",
       "    <tr>\n",
       "      <th>4</th>\n",
       "      <td>5</td>\n",
       "      <td>5.0</td>\n",
       "      <td>3.6</td>\n",
       "      <td>1.4</td>\n",
       "      <td>0.2</td>\n",
       "      <td>Iris-setosa</td>\n",
       "    </tr>\n",
       "  </tbody>\n",
       "</table>\n",
       "</div>"
      ],
      "text/plain": [
       "   Id  SepalLengthCm  SepalWidthCm  PetalLengthCm  PetalWidthCm      Species\n",
       "0   1            5.1           3.5            1.4           0.2  Iris-setosa\n",
       "1   2            4.9           3.0            1.4           0.2  Iris-setosa\n",
       "2   3            4.7           3.2            1.3           0.2  Iris-setosa\n",
       "3   4            4.6           3.1            1.5           0.2  Iris-setosa\n",
       "4   5            5.0           3.6            1.4           0.2  Iris-setosa"
      ]
     },
     "execution_count": 2,
     "metadata": {},
     "output_type": "execute_result"
    }
   ],
   "source": [
    "data = pd.read_csv('/kaggle/input/iris/Iris.csv')\n",
    "\n",
    "# check first 5 rows\n",
    "data.head()"
   ]
  },
  {
   "cell_type": "markdown",
   "id": "653b9797",
   "metadata": {
    "papermill": {
     "duration": 0.055849,
     "end_time": "2022-02-11T10:03:57.353444",
     "exception": false,
     "start_time": "2022-02-11T10:03:57.297595",
     "status": "completed"
    },
    "tags": []
   },
   "source": [
    "There are 6 columns. But, we don't need the `Id` column. We can drop it."
   ]
  },
  {
   "cell_type": "code",
   "execution_count": 3,
   "id": "e4a21915",
   "metadata": {
    "execution": {
     "iopub.execute_input": "2022-02-11T10:03:57.489813Z",
     "iopub.status.busy": "2022-02-11T10:03:57.476877Z",
     "iopub.status.idle": "2022-02-11T10:03:57.493956Z",
     "shell.execute_reply": "2022-02-11T10:03:57.493359Z",
     "shell.execute_reply.started": "2022-02-11T09:48:47.986607Z"
    },
    "papermill": {
     "duration": 0.08388,
     "end_time": "2022-02-11T10:03:57.494104",
     "exception": false,
     "start_time": "2022-02-11T10:03:57.410224",
     "status": "completed"
    },
    "tags": []
   },
   "outputs": [
    {
     "data": {
      "text/html": [
       "<div>\n",
       "<style scoped>\n",
       "    .dataframe tbody tr th:only-of-type {\n",
       "        vertical-align: middle;\n",
       "    }\n",
       "\n",
       "    .dataframe tbody tr th {\n",
       "        vertical-align: top;\n",
       "    }\n",
       "\n",
       "    .dataframe thead th {\n",
       "        text-align: right;\n",
       "    }\n",
       "</style>\n",
       "<table border=\"1\" class=\"dataframe\">\n",
       "  <thead>\n",
       "    <tr style=\"text-align: right;\">\n",
       "      <th></th>\n",
       "      <th>SepalLengthCm</th>\n",
       "      <th>SepalWidthCm</th>\n",
       "      <th>PetalLengthCm</th>\n",
       "      <th>PetalWidthCm</th>\n",
       "      <th>Species</th>\n",
       "    </tr>\n",
       "  </thead>\n",
       "  <tbody>\n",
       "    <tr>\n",
       "      <th>0</th>\n",
       "      <td>5.1</td>\n",
       "      <td>3.5</td>\n",
       "      <td>1.4</td>\n",
       "      <td>0.2</td>\n",
       "      <td>Iris-setosa</td>\n",
       "    </tr>\n",
       "    <tr>\n",
       "      <th>1</th>\n",
       "      <td>4.9</td>\n",
       "      <td>3.0</td>\n",
       "      <td>1.4</td>\n",
       "      <td>0.2</td>\n",
       "      <td>Iris-setosa</td>\n",
       "    </tr>\n",
       "    <tr>\n",
       "      <th>2</th>\n",
       "      <td>4.7</td>\n",
       "      <td>3.2</td>\n",
       "      <td>1.3</td>\n",
       "      <td>0.2</td>\n",
       "      <td>Iris-setosa</td>\n",
       "    </tr>\n",
       "    <tr>\n",
       "      <th>3</th>\n",
       "      <td>4.6</td>\n",
       "      <td>3.1</td>\n",
       "      <td>1.5</td>\n",
       "      <td>0.2</td>\n",
       "      <td>Iris-setosa</td>\n",
       "    </tr>\n",
       "    <tr>\n",
       "      <th>4</th>\n",
       "      <td>5.0</td>\n",
       "      <td>3.6</td>\n",
       "      <td>1.4</td>\n",
       "      <td>0.2</td>\n",
       "      <td>Iris-setosa</td>\n",
       "    </tr>\n",
       "  </tbody>\n",
       "</table>\n",
       "</div>"
      ],
      "text/plain": [
       "   SepalLengthCm  SepalWidthCm  PetalLengthCm  PetalWidthCm      Species\n",
       "0            5.1           3.5            1.4           0.2  Iris-setosa\n",
       "1            4.9           3.0            1.4           0.2  Iris-setosa\n",
       "2            4.7           3.2            1.3           0.2  Iris-setosa\n",
       "3            4.6           3.1            1.5           0.2  Iris-setosa\n",
       "4            5.0           3.6            1.4           0.2  Iris-setosa"
      ]
     },
     "execution_count": 3,
     "metadata": {},
     "output_type": "execute_result"
    }
   ],
   "source": [
    "data.drop('Id', axis=1, inplace=True)\n",
    "data.head()"
   ]
  },
  {
   "cell_type": "markdown",
   "id": "46846f77",
   "metadata": {
    "papermill": {
     "duration": 0.057296,
     "end_time": "2022-02-11T10:03:57.608725",
     "exception": false,
     "start_time": "2022-02-11T10:03:57.551429",
     "status": "completed"
    },
    "tags": []
   },
   "source": [
    "I will change the column name, just for readability. It's just a personal preference."
   ]
  },
  {
   "cell_type": "code",
   "execution_count": 4,
   "id": "3ab37ea3",
   "metadata": {
    "execution": {
     "iopub.execute_input": "2022-02-11T10:03:57.740657Z",
     "iopub.status.busy": "2022-02-11T10:03:57.739976Z",
     "iopub.status.idle": "2022-02-11T10:03:57.744830Z",
     "shell.execute_reply": "2022-02-11T10:03:57.744294Z",
     "shell.execute_reply.started": "2022-02-11T09:48:48.00332Z"
    },
    "papermill": {
     "duration": 0.078407,
     "end_time": "2022-02-11T10:03:57.744998",
     "exception": false,
     "start_time": "2022-02-11T10:03:57.666591",
     "status": "completed"
    },
    "tags": []
   },
   "outputs": [
    {
     "data": {
      "text/html": [
       "<div>\n",
       "<style scoped>\n",
       "    .dataframe tbody tr th:only-of-type {\n",
       "        vertical-align: middle;\n",
       "    }\n",
       "\n",
       "    .dataframe tbody tr th {\n",
       "        vertical-align: top;\n",
       "    }\n",
       "\n",
       "    .dataframe thead th {\n",
       "        text-align: right;\n",
       "    }\n",
       "</style>\n",
       "<table border=\"1\" class=\"dataframe\">\n",
       "  <thead>\n",
       "    <tr style=\"text-align: right;\">\n",
       "      <th></th>\n",
       "      <th>sepal_len</th>\n",
       "      <th>sepal_wd</th>\n",
       "      <th>petal_len</th>\n",
       "      <th>petal_wd</th>\n",
       "      <th>species</th>\n",
       "    </tr>\n",
       "  </thead>\n",
       "  <tbody>\n",
       "    <tr>\n",
       "      <th>0</th>\n",
       "      <td>5.1</td>\n",
       "      <td>3.5</td>\n",
       "      <td>1.4</td>\n",
       "      <td>0.2</td>\n",
       "      <td>Iris-setosa</td>\n",
       "    </tr>\n",
       "    <tr>\n",
       "      <th>1</th>\n",
       "      <td>4.9</td>\n",
       "      <td>3.0</td>\n",
       "      <td>1.4</td>\n",
       "      <td>0.2</td>\n",
       "      <td>Iris-setosa</td>\n",
       "    </tr>\n",
       "    <tr>\n",
       "      <th>2</th>\n",
       "      <td>4.7</td>\n",
       "      <td>3.2</td>\n",
       "      <td>1.3</td>\n",
       "      <td>0.2</td>\n",
       "      <td>Iris-setosa</td>\n",
       "    </tr>\n",
       "    <tr>\n",
       "      <th>3</th>\n",
       "      <td>4.6</td>\n",
       "      <td>3.1</td>\n",
       "      <td>1.5</td>\n",
       "      <td>0.2</td>\n",
       "      <td>Iris-setosa</td>\n",
       "    </tr>\n",
       "    <tr>\n",
       "      <th>4</th>\n",
       "      <td>5.0</td>\n",
       "      <td>3.6</td>\n",
       "      <td>1.4</td>\n",
       "      <td>0.2</td>\n",
       "      <td>Iris-setosa</td>\n",
       "    </tr>\n",
       "  </tbody>\n",
       "</table>\n",
       "</div>"
      ],
      "text/plain": [
       "   sepal_len  sepal_wd  petal_len  petal_wd      species\n",
       "0        5.1       3.5        1.4       0.2  Iris-setosa\n",
       "1        4.9       3.0        1.4       0.2  Iris-setosa\n",
       "2        4.7       3.2        1.3       0.2  Iris-setosa\n",
       "3        4.6       3.1        1.5       0.2  Iris-setosa\n",
       "4        5.0       3.6        1.4       0.2  Iris-setosa"
      ]
     },
     "execution_count": 4,
     "metadata": {},
     "output_type": "execute_result"
    }
   ],
   "source": [
    "column_name = {'SepalLengthCm':'sepal_len',\n",
    "               'SepalWidthCm':'sepal_wd',\n",
    "               'PetalLengthCm':'petal_len',\n",
    "               'PetalWidthCm':'petal_wd',\n",
    "               'Species':'species'\n",
    "              }\n",
    "\n",
    "data.rename(columns=column_name, inplace=True)\n",
    "data.head()"
   ]
  },
  {
   "cell_type": "markdown",
   "id": "a04fb086",
   "metadata": {
    "papermill": {
     "duration": 0.058766,
     "end_time": "2022-02-11T10:03:57.863859",
     "exception": false,
     "start_time": "2022-02-11T10:03:57.805093",
     "status": "completed"
    },
    "tags": []
   },
   "source": [
    "# 4. Data Exploration\n",
    "Exploration on\n",
    "- data type of each column\n",
    "- number of records\n",
    "- check missing values\n",
    "- data distribution"
   ]
  },
  {
   "cell_type": "markdown",
   "id": "f2475366",
   "metadata": {
    "papermill": {
     "duration": 0.058004,
     "end_time": "2022-02-11T10:03:57.980001",
     "exception": false,
     "start_time": "2022-02-11T10:03:57.921997",
     "status": "completed"
    },
    "tags": []
   },
   "source": [
    "## Data Information"
   ]
  },
  {
   "cell_type": "code",
   "execution_count": 5,
   "id": "a7e9e580",
   "metadata": {
    "execution": {
     "iopub.execute_input": "2022-02-11T10:03:58.124920Z",
     "iopub.status.busy": "2022-02-11T10:03:58.116036Z",
     "iopub.status.idle": "2022-02-11T10:03:58.130191Z",
     "shell.execute_reply": "2022-02-11T10:03:58.129587Z",
     "shell.execute_reply.started": "2022-02-11T09:48:48.026181Z"
    },
    "papermill": {
     "duration": 0.090568,
     "end_time": "2022-02-11T10:03:58.130342",
     "exception": false,
     "start_time": "2022-02-11T10:03:58.039774",
     "status": "completed"
    },
    "tags": []
   },
   "outputs": [
    {
     "name": "stdout",
     "output_type": "stream",
     "text": [
      "<class 'pandas.core.frame.DataFrame'>\n",
      "RangeIndex: 150 entries, 0 to 149\n",
      "Data columns (total 5 columns):\n",
      " #   Column     Non-Null Count  Dtype  \n",
      "---  ------     --------------  -----  \n",
      " 0   sepal_len  150 non-null    float64\n",
      " 1   sepal_wd   150 non-null    float64\n",
      " 2   petal_len  150 non-null    float64\n",
      " 3   petal_wd   150 non-null    float64\n",
      " 4   species    150 non-null    object \n",
      "dtypes: float64(4), object(1)\n",
      "memory usage: 6.0+ KB\n"
     ]
    }
   ],
   "source": [
    "data.info()"
   ]
  },
  {
   "cell_type": "markdown",
   "id": "adc16d33",
   "metadata": {
    "papermill": {
     "duration": 0.061475,
     "end_time": "2022-02-11T10:03:58.255070",
     "exception": false,
     "start_time": "2022-02-11T10:03:58.193595",
     "status": "completed"
    },
    "tags": []
   },
   "source": [
    "We can see the data information using `info()`. But I will combine all data information to be a dataframe. Just for better visualization."
   ]
  },
  {
   "cell_type": "code",
   "execution_count": 6,
   "id": "73949ae0",
   "metadata": {
    "execution": {
     "iopub.execute_input": "2022-02-11T10:03:58.383025Z",
     "iopub.status.busy": "2022-02-11T10:03:58.382207Z",
     "iopub.status.idle": "2022-02-11T10:03:58.385117Z",
     "shell.execute_reply": "2022-02-11T10:03:58.385596Z",
     "shell.execute_reply.started": "2022-02-11T09:48:48.042092Z"
    },
    "papermill": {
     "duration": 0.072078,
     "end_time": "2022-02-11T10:03:58.385823",
     "exception": false,
     "start_time": "2022-02-11T10:03:58.313745",
     "status": "completed"
    },
    "tags": []
   },
   "outputs": [
    {
     "data": {
      "text/plain": [
       "sepal_len    150\n",
       "sepal_wd     150\n",
       "petal_len    150\n",
       "petal_wd     150\n",
       "species      150\n",
       "dtype: int64"
      ]
     },
     "execution_count": 6,
     "metadata": {},
     "output_type": "execute_result"
    }
   ],
   "source": [
    "# check num of non-null data\n",
    "data.count()"
   ]
  },
  {
   "cell_type": "code",
   "execution_count": 7,
   "id": "81f78697",
   "metadata": {
    "execution": {
     "iopub.execute_input": "2022-02-11T10:03:58.517306Z",
     "iopub.status.busy": "2022-02-11T10:03:58.516442Z",
     "iopub.status.idle": "2022-02-11T10:03:58.520410Z",
     "shell.execute_reply": "2022-02-11T10:03:58.519872Z",
     "shell.execute_reply.started": "2022-02-11T09:48:48.052546Z"
    },
    "papermill": {
     "duration": 0.072427,
     "end_time": "2022-02-11T10:03:58.520567",
     "exception": false,
     "start_time": "2022-02-11T10:03:58.448140",
     "status": "completed"
    },
    "tags": []
   },
   "outputs": [
    {
     "data": {
      "text/plain": [
       "sepal_len    float64\n",
       "sepal_wd     float64\n",
       "petal_len    float64\n",
       "petal_wd     float64\n",
       "species       object\n",
       "dtype: object"
      ]
     },
     "execution_count": 7,
     "metadata": {},
     "output_type": "execute_result"
    }
   ],
   "source": [
    "# check data type\n",
    "data.dtypes"
   ]
  },
  {
   "cell_type": "code",
   "execution_count": 8,
   "id": "e6c9ec87",
   "metadata": {
    "execution": {
     "iopub.execute_input": "2022-02-11T10:03:58.649632Z",
     "iopub.status.busy": "2022-02-11T10:03:58.648588Z",
     "iopub.status.idle": "2022-02-11T10:03:58.652081Z",
     "shell.execute_reply": "2022-02-11T10:03:58.652575Z",
     "shell.execute_reply.started": "2022-02-11T09:48:48.066455Z"
    },
    "papermill": {
     "duration": 0.07297,
     "end_time": "2022-02-11T10:03:58.652790",
     "exception": false,
     "start_time": "2022-02-11T10:03:58.579820",
     "status": "completed"
    },
    "tags": []
   },
   "outputs": [
    {
     "data": {
      "text/plain": [
       "sepal_len    0\n",
       "sepal_wd     0\n",
       "petal_len    0\n",
       "petal_wd     0\n",
       "species      0\n",
       "dtype: int64"
      ]
     },
     "execution_count": 8,
     "metadata": {},
     "output_type": "execute_result"
    }
   ],
   "source": [
    "# check total null values\n",
    "data.isnull().sum()"
   ]
  },
  {
   "cell_type": "code",
   "execution_count": 9,
   "id": "49fbb8b9",
   "metadata": {
    "execution": {
     "iopub.execute_input": "2022-02-11T10:03:58.789718Z",
     "iopub.status.busy": "2022-02-11T10:03:58.789027Z",
     "iopub.status.idle": "2022-02-11T10:03:58.792024Z",
     "shell.execute_reply": "2022-02-11T10:03:58.792511Z",
     "shell.execute_reply.started": "2022-02-11T09:48:48.081421Z"
    },
    "papermill": {
     "duration": 0.077688,
     "end_time": "2022-02-11T10:03:58.792719",
     "exception": false,
     "start_time": "2022-02-11T10:03:58.715031",
     "status": "completed"
    },
    "tags": []
   },
   "outputs": [
    {
     "data": {
      "text/plain": [
       "sepal_len    0.0\n",
       "sepal_wd     0.0\n",
       "petal_len    0.0\n",
       "petal_wd     0.0\n",
       "species      0.0\n",
       "dtype: float64"
      ]
     },
     "execution_count": 9,
     "metadata": {},
     "output_type": "execute_result"
    }
   ],
   "source": [
    "# check null values percentage\n",
    "(data.isnull().sum()/data.shape[0])*100"
   ]
  },
  {
   "cell_type": "code",
   "execution_count": 10,
   "id": "4a9ef9e8",
   "metadata": {
    "execution": {
     "iopub.execute_input": "2022-02-11T10:03:58.934765Z",
     "iopub.status.busy": "2022-02-11T10:03:58.933967Z",
     "iopub.status.idle": "2022-02-11T10:03:58.946991Z",
     "shell.execute_reply": "2022-02-11T10:03:58.947498Z",
     "shell.execute_reply.started": "2022-02-11T09:48:48.093952Z"
    },
    "papermill": {
     "duration": 0.092239,
     "end_time": "2022-02-11T10:03:58.947686",
     "exception": false,
     "start_time": "2022-02-11T10:03:58.855447",
     "status": "completed"
    },
    "tags": []
   },
   "outputs": [
    {
     "data": {
      "text/html": [
       "<div>\n",
       "<style scoped>\n",
       "    .dataframe tbody tr th:only-of-type {\n",
       "        vertical-align: middle;\n",
       "    }\n",
       "\n",
       "    .dataframe tbody tr th {\n",
       "        vertical-align: top;\n",
       "    }\n",
       "\n",
       "    .dataframe thead th {\n",
       "        text-align: right;\n",
       "    }\n",
       "</style>\n",
       "<table border=\"1\" class=\"dataframe\">\n",
       "  <thead>\n",
       "    <tr style=\"text-align: right;\">\n",
       "      <th></th>\n",
       "      <th>sepal_len</th>\n",
       "      <th>sepal_wd</th>\n",
       "      <th>petal_len</th>\n",
       "      <th>petal_wd</th>\n",
       "      <th>species</th>\n",
       "    </tr>\n",
       "  </thead>\n",
       "  <tbody>\n",
       "    <tr>\n",
       "      <th>Non-null Count</th>\n",
       "      <td>150</td>\n",
       "      <td>150</td>\n",
       "      <td>150</td>\n",
       "      <td>150</td>\n",
       "      <td>150</td>\n",
       "    </tr>\n",
       "    <tr>\n",
       "      <th>Column Data Type</th>\n",
       "      <td>float64</td>\n",
       "      <td>float64</td>\n",
       "      <td>float64</td>\n",
       "      <td>float64</td>\n",
       "      <td>object</td>\n",
       "    </tr>\n",
       "    <tr>\n",
       "      <th>Total Null Values</th>\n",
       "      <td>0</td>\n",
       "      <td>0</td>\n",
       "      <td>0</td>\n",
       "      <td>0</td>\n",
       "      <td>0</td>\n",
       "    </tr>\n",
       "    <tr>\n",
       "      <th>Null Values Percentage</th>\n",
       "      <td>0.0</td>\n",
       "      <td>0.0</td>\n",
       "      <td>0.0</td>\n",
       "      <td>0.0</td>\n",
       "      <td>0.0</td>\n",
       "    </tr>\n",
       "  </tbody>\n",
       "</table>\n",
       "</div>"
      ],
      "text/plain": [
       "                       sepal_len sepal_wd petal_len petal_wd species\n",
       "Non-null Count               150      150       150      150     150\n",
       "Column Data Type         float64  float64   float64  float64  object\n",
       "Total Null Values              0        0         0        0       0\n",
       "Null Values Percentage       0.0      0.0       0.0      0.0     0.0"
      ]
     },
     "execution_count": 10,
     "metadata": {},
     "output_type": "execute_result"
    }
   ],
   "source": [
    "data_count = pd.DataFrame(data.count()).T.rename({0:'Non-null Count'})\n",
    "data_type = pd.DataFrame(data.dtypes).T.rename({0:'Column Data Type'})\n",
    "data_null = pd.DataFrame(data.isnull().sum()).T.rename({0:'Total Null Values'})\n",
    "data_null_percentage = pd.DataFrame((data.isnull().sum()/data.shape[0])*100).T.rename({0:'Null Values Percentage'})\n",
    "\n",
    "data_info = data_count.append([data_type, data_null, data_null_percentage])\n",
    "data_info"
   ]
  },
  {
   "cell_type": "markdown",
   "id": "31210426",
   "metadata": {
    "papermill": {
     "duration": 0.060198,
     "end_time": "2022-02-11T10:03:59.068178",
     "exception": false,
     "start_time": "2022-02-11T10:03:59.007980",
     "status": "completed"
    },
    "tags": []
   },
   "source": [
    "From this data information, we can see that there are no null values in this dataset. It's a good sign."
   ]
  },
  {
   "cell_type": "markdown",
   "id": "3d306bb4",
   "metadata": {
    "papermill": {
     "duration": 0.060823,
     "end_time": "2022-02-11T10:03:59.190551",
     "exception": false,
     "start_time": "2022-02-11T10:03:59.129728",
     "status": "completed"
    },
    "tags": []
   },
   "source": [
    "## Summary Statistic\n",
    "Using `describe()`, we can see some descriptive statistics."
   ]
  },
  {
   "cell_type": "code",
   "execution_count": 11,
   "id": "8c916279",
   "metadata": {
    "execution": {
     "iopub.execute_input": "2022-02-11T10:03:59.314874Z",
     "iopub.status.busy": "2022-02-11T10:03:59.314118Z",
     "iopub.status.idle": "2022-02-11T10:03:59.344251Z",
     "shell.execute_reply": "2022-02-11T10:03:59.343706Z",
     "shell.execute_reply.started": "2022-02-11T09:48:48.124309Z"
    },
    "papermill": {
     "duration": 0.093978,
     "end_time": "2022-02-11T10:03:59.344399",
     "exception": false,
     "start_time": "2022-02-11T10:03:59.250421",
     "status": "completed"
    },
    "tags": []
   },
   "outputs": [
    {
     "data": {
      "text/html": [
       "<div>\n",
       "<style scoped>\n",
       "    .dataframe tbody tr th:only-of-type {\n",
       "        vertical-align: middle;\n",
       "    }\n",
       "\n",
       "    .dataframe tbody tr th {\n",
       "        vertical-align: top;\n",
       "    }\n",
       "\n",
       "    .dataframe thead th {\n",
       "        text-align: right;\n",
       "    }\n",
       "</style>\n",
       "<table border=\"1\" class=\"dataframe\">\n",
       "  <thead>\n",
       "    <tr style=\"text-align: right;\">\n",
       "      <th></th>\n",
       "      <th>sepal_len</th>\n",
       "      <th>sepal_wd</th>\n",
       "      <th>petal_len</th>\n",
       "      <th>petal_wd</th>\n",
       "    </tr>\n",
       "  </thead>\n",
       "  <tbody>\n",
       "    <tr>\n",
       "      <th>count</th>\n",
       "      <td>150.00</td>\n",
       "      <td>150.00</td>\n",
       "      <td>150.00</td>\n",
       "      <td>150.00</td>\n",
       "    </tr>\n",
       "    <tr>\n",
       "      <th>mean</th>\n",
       "      <td>5.84</td>\n",
       "      <td>3.05</td>\n",
       "      <td>3.76</td>\n",
       "      <td>1.20</td>\n",
       "    </tr>\n",
       "    <tr>\n",
       "      <th>std</th>\n",
       "      <td>0.83</td>\n",
       "      <td>0.43</td>\n",
       "      <td>1.76</td>\n",
       "      <td>0.76</td>\n",
       "    </tr>\n",
       "    <tr>\n",
       "      <th>min</th>\n",
       "      <td>4.30</td>\n",
       "      <td>2.00</td>\n",
       "      <td>1.00</td>\n",
       "      <td>0.10</td>\n",
       "    </tr>\n",
       "    <tr>\n",
       "      <th>25%</th>\n",
       "      <td>5.10</td>\n",
       "      <td>2.80</td>\n",
       "      <td>1.60</td>\n",
       "      <td>0.30</td>\n",
       "    </tr>\n",
       "    <tr>\n",
       "      <th>50%</th>\n",
       "      <td>5.80</td>\n",
       "      <td>3.00</td>\n",
       "      <td>4.35</td>\n",
       "      <td>1.30</td>\n",
       "    </tr>\n",
       "    <tr>\n",
       "      <th>75%</th>\n",
       "      <td>6.40</td>\n",
       "      <td>3.30</td>\n",
       "      <td>5.10</td>\n",
       "      <td>1.80</td>\n",
       "    </tr>\n",
       "    <tr>\n",
       "      <th>max</th>\n",
       "      <td>7.90</td>\n",
       "      <td>4.40</td>\n",
       "      <td>6.90</td>\n",
       "      <td>2.50</td>\n",
       "    </tr>\n",
       "  </tbody>\n",
       "</table>\n",
       "</div>"
      ],
      "text/plain": [
       "       sepal_len  sepal_wd  petal_len  petal_wd\n",
       "count     150.00    150.00     150.00    150.00\n",
       "mean        5.84      3.05       3.76      1.20\n",
       "std         0.83      0.43       1.76      0.76\n",
       "min         4.30      2.00       1.00      0.10\n",
       "25%         5.10      2.80       1.60      0.30\n",
       "50%         5.80      3.00       4.35      1.30\n",
       "75%         6.40      3.30       5.10      1.80\n",
       "max         7.90      4.40       6.90      2.50"
      ]
     },
     "execution_count": 11,
     "metadata": {},
     "output_type": "execute_result"
    }
   ],
   "source": [
    "data.describe().round(2)"
   ]
  },
  {
   "cell_type": "markdown",
   "id": "fe16446c",
   "metadata": {
    "papermill": {
     "duration": 0.060302,
     "end_time": "2022-02-11T10:03:59.466084",
     "exception": false,
     "start_time": "2022-02-11T10:03:59.405782",
     "status": "completed"
    },
    "tags": []
   },
   "source": [
    "## Data Distribution"
   ]
  },
  {
   "cell_type": "markdown",
   "id": "2a438b46",
   "metadata": {
    "papermill": {
     "duration": 0.060346,
     "end_time": "2022-02-11T10:03:59.587801",
     "exception": false,
     "start_time": "2022-02-11T10:03:59.527455",
     "status": "completed"
    },
    "tags": []
   },
   "source": [
    "### Distribution of Iris Species"
   ]
  },
  {
   "cell_type": "code",
   "execution_count": 12,
   "id": "a5175d2d",
   "metadata": {
    "execution": {
     "iopub.execute_input": "2022-02-11T10:03:59.716500Z",
     "iopub.status.busy": "2022-02-11T10:03:59.715784Z",
     "iopub.status.idle": "2022-02-11T10:03:59.721168Z",
     "shell.execute_reply": "2022-02-11T10:03:59.721632Z",
     "shell.execute_reply.started": "2022-02-11T09:48:48.161671Z"
    },
    "papermill": {
     "duration": 0.073415,
     "end_time": "2022-02-11T10:03:59.721880",
     "exception": false,
     "start_time": "2022-02-11T10:03:59.648465",
     "status": "completed"
    },
    "tags": []
   },
   "outputs": [
    {
     "data": {
      "text/plain": [
       "species\n",
       "Iris-setosa        50\n",
       "Iris-versicolor    50\n",
       "Iris-virginica     50\n",
       "dtype: int64"
      ]
     },
     "execution_count": 12,
     "metadata": {},
     "output_type": "execute_result"
    }
   ],
   "source": [
    "data.groupby('species').size()"
   ]
  },
  {
   "cell_type": "markdown",
   "id": "05165f25",
   "metadata": {
    "papermill": {
     "duration": 0.065375,
     "end_time": "2022-02-11T10:03:59.851538",
     "exception": false,
     "start_time": "2022-02-11T10:03:59.786163",
     "status": "completed"
    },
    "tags": []
   },
   "source": [
    "The distribution of each species is equal. Nice. Another way to see the distribution of species:"
   ]
  },
  {
   "cell_type": "code",
   "execution_count": 13,
   "id": "1bee7825",
   "metadata": {
    "execution": {
     "iopub.execute_input": "2022-02-11T10:03:59.981244Z",
     "iopub.status.busy": "2022-02-11T10:03:59.980373Z",
     "iopub.status.idle": "2022-02-11T10:03:59.990301Z",
     "shell.execute_reply": "2022-02-11T10:03:59.990972Z",
     "shell.execute_reply.started": "2022-02-11T09:48:48.173126Z"
    },
    "papermill": {
     "duration": 0.075988,
     "end_time": "2022-02-11T10:03:59.991202",
     "exception": false,
     "start_time": "2022-02-11T10:03:59.915214",
     "status": "completed"
    },
    "tags": []
   },
   "outputs": [
    {
     "data": {
      "text/plain": [
       "Iris-setosa        50\n",
       "Iris-versicolor    50\n",
       "Iris-virginica     50\n",
       "Name: species, dtype: int64"
      ]
     },
     "execution_count": 13,
     "metadata": {},
     "output_type": "execute_result"
    }
   ],
   "source": [
    "data['species'].value_counts()"
   ]
  },
  {
   "cell_type": "markdown",
   "id": "9fadacb2",
   "metadata": {
    "papermill": {
     "duration": 0.062853,
     "end_time": "2022-02-11T10:04:00.118501",
     "exception": false,
     "start_time": "2022-02-11T10:04:00.055648",
     "status": "completed"
    },
    "tags": []
   },
   "source": [
    "### Histogram"
   ]
  },
  {
   "cell_type": "code",
   "execution_count": 14,
   "id": "792e0251",
   "metadata": {
    "execution": {
     "iopub.execute_input": "2022-02-11T10:04:00.259754Z",
     "iopub.status.busy": "2022-02-11T10:04:00.258516Z",
     "iopub.status.idle": "2022-02-11T10:04:01.466589Z",
     "shell.execute_reply": "2022-02-11T10:04:01.467197Z",
     "shell.execute_reply.started": "2022-02-11T09:48:48.188239Z"
    },
    "papermill": {
     "duration": 1.283846,
     "end_time": "2022-02-11T10:04:01.467415",
     "exception": false,
     "start_time": "2022-02-11T10:04:00.183569",
     "status": "completed"
    },
    "tags": []
   },
   "outputs": [
    {
     "data": {
      "image/png": "[encoded data removed]",
      "text/plain": [
       "<Figure size 576x432 with 4 Axes>"
      ]
     },
     "metadata": {},
     "output_type": "display_data"
    }
   ],
   "source": [
    "column_list = ['sepal_len', 'sepal_wd', 'petal_len', 'petal_wd']\n",
    "\n",
    "fig, ax = plt.subplots(2,2, figsize=(8,6), constrained_layout=True)\n",
    "axes_list = [axes for axes_row in ax for axes in axes_row]\n",
    "\n",
    "for i, col_name in enumerate(column_list):\n",
    "    sns.histplot(data=data, x=col_name, ax=axes_list[i], kde=True, line_kws={'linewidth':3})\n",
    "plt.show()"
   ]
  },
  {
   "cell_type": "markdown",
   "id": "40517ab7",
   "metadata": {
    "papermill": {
     "duration": 0.0646,
     "end_time": "2022-02-11T10:04:01.598115",
     "exception": false,
     "start_time": "2022-02-11T10:04:01.533515",
     "status": "completed"
    },
    "tags": []
   },
   "source": [
    "### Boxplot"
   ]
  },
  {
   "cell_type": "code",
   "execution_count": 15,
   "id": "62388106",
   "metadata": {
    "execution": {
     "iopub.execute_input": "2022-02-11T10:04:01.755756Z",
     "iopub.status.busy": "2022-02-11T10:04:01.752624Z",
     "iopub.status.idle": "2022-02-11T10:04:01.989597Z",
     "shell.execute_reply": "2022-02-11T10:04:01.988939Z",
     "shell.execute_reply.started": "2022-02-11T09:48:49.338049Z"
    },
    "papermill": {
     "duration": 0.325345,
     "end_time": "2022-02-11T10:04:01.989783",
     "exception": false,
     "start_time": "2022-02-11T10:04:01.664438",
     "status": "completed"
    },
    "tags": []
   },
   "outputs": [
    {
     "data": {
      "image/png": "[encoded data removed]",
      "text/plain": [
       "<Figure size 432x288 with 1 Axes>"
      ]
     },
     "metadata": {},
     "output_type": "display_data"
    }
   ],
   "source": [
    "column_list = ['sepal_len', 'sepal_wd', 'petal_len', 'petal_wd']\n",
    "\n",
    "sns.boxplot(data=data[column_list])\n",
    "plt.show()"
   ]
  },
  {
   "cell_type": "markdown",
   "id": "f4c51318",
   "metadata": {
    "papermill": {
     "duration": 0.067512,
     "end_time": "2022-02-11T10:04:02.126762",
     "exception": false,
     "start_time": "2022-02-11T10:04:02.059250",
     "status": "completed"
    },
    "tags": []
   },
   "source": [
    "We can see some outliers on `sepal_wd`. For this project, I'm not going to handle this outliers."
   ]
  },
  {
   "cell_type": "markdown",
   "id": "227bfb32",
   "metadata": {
    "papermill": {
     "duration": 0.064135,
     "end_time": "2022-02-11T10:04:02.257995",
     "exception": false,
     "start_time": "2022-02-11T10:04:02.193860",
     "status": "completed"
    },
    "tags": []
   },
   "source": [
    "### Pairplot"
   ]
  },
  {
   "cell_type": "code",
   "execution_count": 16,
   "id": "f8037211",
   "metadata": {
    "execution": {
     "iopub.execute_input": "2022-02-11T10:04:02.397703Z",
     "iopub.status.busy": "2022-02-11T10:04:02.396951Z",
     "iopub.status.idle": "2022-02-11T10:04:07.387562Z",
     "shell.execute_reply": "2022-02-11T10:04:07.388148Z",
     "shell.execute_reply.started": "2022-02-11T09:48:49.582603Z"
    },
    "papermill": {
     "duration": 5.064593,
     "end_time": "2022-02-11T10:04:07.388353",
     "exception": false,
     "start_time": "2022-02-11T10:04:02.323760",
     "status": "completed"
    },
    "tags": []
   },
   "outputs": [
    {
     "data": {
      "image/png": "[encoded data removed]",
      "text/plain": [
       "<Figure size 834.35x720 with 20 Axes>"
      ]
     },
     "metadata": {},
     "output_type": "display_data"
    }
   ],
   "source": [
    "sns.pairplot(data, hue='species')\n",
    "plt.show()"
   ]
  },
  {
   "cell_type": "markdown",
   "id": "ba438a9e",
   "metadata": {
    "papermill": {
     "duration": 0.072282,
     "end_time": "2022-02-11T10:04:07.532499",
     "exception": false,
     "start_time": "2022-02-11T10:04:07.460217",
     "status": "completed"
    },
    "tags": []
   },
   "source": [
    "From this plot, we have a glimpse of how to classify iris species, right?"
   ]
  },
  {
   "cell_type": "markdown",
   "id": "e912b5f9",
   "metadata": {
    "papermill": {
     "duration": 0.070914,
     "end_time": "2022-02-11T10:04:07.675354",
     "exception": false,
     "start_time": "2022-02-11T10:04:07.604440",
     "status": "completed"
    },
    "tags": []
   },
   "source": [
    "# 5. Data Preparation\n",
    "For building machine learning model, I will use 2 scenario:\n",
    "- Using 2 attributes\n",
    "- Using all atributes\n",
    "\n",
    "But I will use 2 attributes first."
   ]
  },
  {
   "cell_type": "markdown",
   "id": "a426af63",
   "metadata": {
    "papermill": {
     "duration": 0.073067,
     "end_time": "2022-02-11T10:04:07.821229",
     "exception": false,
     "start_time": "2022-02-11T10:04:07.748162",
     "status": "completed"
    },
    "tags": []
   },
   "source": [
    "## Attribute Selection\n",
    "Based on the pairplot above, I will use `petal_len` and `petal_wd` since it has a good species separation."
   ]
  },
  {
   "cell_type": "code",
   "execution_count": 17,
   "id": "1ee727d7",
   "metadata": {
    "execution": {
     "iopub.execute_input": "2022-02-11T10:04:07.973480Z",
     "iopub.status.busy": "2022-02-11T10:04:07.972543Z",
     "iopub.status.idle": "2022-02-11T10:04:07.975688Z",
     "shell.execute_reply": "2022-02-11T10:04:07.976208Z",
     "shell.execute_reply.started": "2022-02-11T09:48:54.547363Z"
    },
    "papermill": {
     "duration": 0.082837,
     "end_time": "2022-02-11T10:04:07.976414",
     "exception": false,
     "start_time": "2022-02-11T10:04:07.893577",
     "status": "completed"
    },
    "tags": []
   },
   "outputs": [],
   "source": [
    "column_list = ['sepal_len', 'sepal_wd', 'petal_len', 'petal_wd']\n",
    "\n",
    "# using 2 attributes\n",
    "X = data[['petal_len', 'petal_wd']]\n",
    "\n",
    "# target\n",
    "Y = data['species']"
   ]
  },
  {
   "cell_type": "markdown",
   "id": "81913e43",
   "metadata": {
    "papermill": {
     "duration": 0.070078,
     "end_time": "2022-02-11T10:04:08.117396",
     "exception": false,
     "start_time": "2022-02-11T10:04:08.047318",
     "status": "completed"
    },
    "tags": []
   },
   "source": [
    "## Train - Test Split"
   ]
  },
  {
   "cell_type": "code",
   "execution_count": 18,
   "id": "bc801eee",
   "metadata": {
    "execution": {
     "iopub.execute_input": "2022-02-11T10:04:08.263459Z",
     "iopub.status.busy": "2022-02-11T10:04:08.262406Z",
     "iopub.status.idle": "2022-02-11T10:04:08.269715Z",
     "shell.execute_reply": "2022-02-11T10:04:08.270277Z",
     "shell.execute_reply.started": "2022-02-11T09:48:54.556589Z"
    },
    "papermill": {
     "duration": 0.08199,
     "end_time": "2022-02-11T10:04:08.270451",
     "exception": false,
     "start_time": "2022-02-11T10:04:08.188461",
     "status": "completed"
    },
    "tags": []
   },
   "outputs": [],
   "source": [
    "from sklearn.model_selection import train_test_split\n",
    "\n",
    "X_train, X_test, Y_train, Y_test = train_test_split(X, Y, test_size=0.3, random_state=1, stratify=Y)"
   ]
  },
  {
   "cell_type": "markdown",
   "id": "2f3763b9",
   "metadata": {
    "papermill": {
     "duration": 0.06981,
     "end_time": "2022-02-11T10:04:08.410446",
     "exception": false,
     "start_time": "2022-02-11T10:04:08.340636",
     "status": "completed"
    },
    "tags": []
   },
   "source": [
    "`stratify` parameter is used to make sure that the distribution of species on train and test set is similar."
   ]
  },
  {
   "cell_type": "code",
   "execution_count": 19,
   "id": "98a966db",
   "metadata": {
    "execution": {
     "iopub.execute_input": "2022-02-11T10:04:08.555294Z",
     "iopub.status.busy": "2022-02-11T10:04:08.554290Z",
     "iopub.status.idle": "2022-02-11T10:04:08.562238Z",
     "shell.execute_reply": "2022-02-11T10:04:08.562867Z",
     "shell.execute_reply.started": "2022-02-11T09:48:54.572891Z"
    },
    "papermill": {
     "duration": 0.0822,
     "end_time": "2022-02-11T10:04:08.563053",
     "exception": false,
     "start_time": "2022-02-11T10:04:08.480853",
     "status": "completed"
    },
    "tags": []
   },
   "outputs": [
    {
     "name": "stdout",
     "output_type": "stream",
     "text": [
      "Iris-setosa        35\n",
      "Iris-virginica     35\n",
      "Iris-versicolor    35\n",
      "Name: species, dtype: int64\n",
      "\n",
      "Iris-virginica     15\n",
      "Iris-setosa        15\n",
      "Iris-versicolor    15\n",
      "Name: species, dtype: int64\n"
     ]
    }
   ],
   "source": [
    "print(Y_train.value_counts())\n",
    "print()\n",
    "print(Y_test.value_counts())"
   ]
  },
  {
   "cell_type": "markdown",
   "id": "846b2893",
   "metadata": {
    "papermill": {
     "duration": 0.06997,
     "end_time": "2022-02-11T10:04:08.703213",
     "exception": false,
     "start_time": "2022-02-11T10:04:08.633243",
     "status": "completed"
    },
    "tags": []
   },
   "source": [
    "# 6. KNN Model"
   ]
  },
  {
   "cell_type": "markdown",
   "id": "930543ee",
   "metadata": {
    "papermill": {
     "duration": 0.071112,
     "end_time": "2022-02-11T10:04:08.845311",
     "exception": false,
     "start_time": "2022-02-11T10:04:08.774199",
     "status": "completed"
    },
    "tags": []
   },
   "source": [
    "## Building the Model"
   ]
  },
  {
   "cell_type": "code",
   "execution_count": 20,
   "id": "1030f504",
   "metadata": {
    "execution": {
     "iopub.execute_input": "2022-02-11T10:04:08.993008Z",
     "iopub.status.busy": "2022-02-11T10:04:08.991916Z",
     "iopub.status.idle": "2022-02-11T10:04:09.006110Z",
     "shell.execute_reply": "2022-02-11T10:04:09.006733Z",
     "shell.execute_reply.started": "2022-02-11T09:48:54.588888Z"
    },
    "papermill": {
     "duration": 0.090505,
     "end_time": "2022-02-11T10:04:09.006915",
     "exception": false,
     "start_time": "2022-02-11T10:04:08.916410",
     "status": "completed"
    },
    "tags": []
   },
   "outputs": [
    {
     "data": {
      "text/plain": [
       "KNeighborsClassifier()"
      ]
     },
     "execution_count": 20,
     "metadata": {},
     "output_type": "execute_result"
    }
   ],
   "source": [
    "from sklearn.neighbors import KNeighborsClassifier\n",
    "\n",
    "# use 5 neighors\n",
    "knn = KNeighborsClassifier(n_neighbors=5)\n",
    "\n",
    "# train the model\n",
    "knn.fit(X_train, Y_train)"
   ]
  },
  {
   "cell_type": "markdown",
   "id": "bbad4e04",
   "metadata": {
    "papermill": {
     "duration": 0.071545,
     "end_time": "2022-02-11T10:04:09.150962",
     "exception": false,
     "start_time": "2022-02-11T10:04:09.079417",
     "status": "completed"
    },
    "tags": []
   },
   "source": [
    "## Prediction"
   ]
  },
  {
   "cell_type": "code",
   "execution_count": 21,
   "id": "cae2965f",
   "metadata": {
    "execution": {
     "iopub.execute_input": "2022-02-11T10:04:09.302005Z",
     "iopub.status.busy": "2022-02-11T10:04:09.301154Z",
     "iopub.status.idle": "2022-02-11T10:04:09.307534Z",
     "shell.execute_reply": "2022-02-11T10:04:09.306885Z",
     "shell.execute_reply.started": "2022-02-11T09:48:54.611014Z"
    },
    "papermill": {
     "duration": 0.085284,
     "end_time": "2022-02-11T10:04:09.307735",
     "exception": false,
     "start_time": "2022-02-11T10:04:09.222451",
     "status": "completed"
    },
    "tags": []
   },
   "outputs": [],
   "source": [
    "pred = knn.predict(X_test)"
   ]
  },
  {
   "cell_type": "markdown",
   "id": "3d74faf9",
   "metadata": {
    "papermill": {
     "duration": 0.072374,
     "end_time": "2022-02-11T10:04:09.453885",
     "exception": false,
     "start_time": "2022-02-11T10:04:09.381511",
     "status": "completed"
    },
    "tags": []
   },
   "source": [
    "Let's check it manually, see the first 5 test data and predictions."
   ]
  },
  {
   "cell_type": "code",
   "execution_count": 22,
   "id": "fbd6f042",
   "metadata": {
    "execution": {
     "iopub.execute_input": "2022-02-11T10:04:09.617003Z",
     "iopub.status.busy": "2022-02-11T10:04:09.616196Z",
     "iopub.status.idle": "2022-02-11T10:04:09.619427Z",
     "shell.execute_reply": "2022-02-11T10:04:09.620050Z",
     "shell.execute_reply.started": "2022-02-11T09:48:54.624243Z"
    },
    "papermill": {
     "duration": 0.089176,
     "end_time": "2022-02-11T10:04:09.620275",
     "exception": false,
     "start_time": "2022-02-11T10:04:09.531099",
     "status": "completed"
    },
    "tags": []
   },
   "outputs": [
    {
     "name": "stdout",
     "output_type": "stream",
     "text": [
      "['Iris-virginica' 'Iris-setosa' 'Iris-setosa' 'Iris-virginica'\n",
      " 'Iris-versicolor']\n",
      "\n",
      "['Iris-virginica' 'Iris-setosa' 'Iris-setosa' 'Iris-versicolor'\n",
      " 'Iris-versicolor']\n"
     ]
    }
   ],
   "source": [
    "print(Y_test[:5].values)\n",
    "print()\n",
    "print(pred[:5])"
   ]
  },
  {
   "cell_type": "markdown",
   "id": "75b8dce5",
   "metadata": {
    "papermill": {
     "duration": 0.074411,
     "end_time": "2022-02-11T10:04:09.773332",
     "exception": false,
     "start_time": "2022-02-11T10:04:09.698921",
     "status": "completed"
    },
    "tags": []
   },
   "source": [
    "The 4th prediction is not right. But it's okay. Let's see the model score."
   ]
  },
  {
   "cell_type": "markdown",
   "id": "5d1c4874",
   "metadata": {
    "papermill": {
     "duration": 0.076891,
     "end_time": "2022-02-11T10:04:09.930107",
     "exception": false,
     "start_time": "2022-02-11T10:04:09.853216",
     "status": "completed"
    },
    "tags": []
   },
   "source": [
    "# 7. Model Evaluation"
   ]
  },
  {
   "cell_type": "markdown",
   "id": "0bd447d5",
   "metadata": {
    "papermill": {
     "duration": 0.073148,
     "end_time": "2022-02-11T10:04:10.077810",
     "exception": false,
     "start_time": "2022-02-11T10:04:10.004662",
     "status": "completed"
    },
    "tags": []
   },
   "source": [
    "## Accuracy"
   ]
  },
  {
   "cell_type": "code",
   "execution_count": 23,
   "id": "977445a2",
   "metadata": {
    "execution": {
     "iopub.execute_input": "2022-02-11T10:04:10.235078Z",
     "iopub.status.busy": "2022-02-11T10:04:10.234338Z",
     "iopub.status.idle": "2022-02-11T10:04:10.240453Z",
     "shell.execute_reply": "2022-02-11T10:04:10.241110Z",
     "shell.execute_reply.started": "2022-02-11T09:48:54.636779Z"
    },
    "papermill": {
     "duration": 0.09053,
     "end_time": "2022-02-11T10:04:10.241298",
     "exception": false,
     "start_time": "2022-02-11T10:04:10.150768",
     "status": "completed"
    },
    "tags": []
   },
   "outputs": [
    {
     "name": "stdout",
     "output_type": "stream",
     "text": [
      "Accuracy: 97.78%\n"
     ]
    }
   ],
   "source": [
    "acc = knn.score(X_test, Y_test)\n",
    "print(f'Accuracy: {(acc*100).round(2)}%')"
   ]
  },
  {
   "cell_type": "code",
   "execution_count": 24,
   "id": "48227023",
   "metadata": {
    "execution": {
     "iopub.execute_input": "2022-02-11T10:04:10.399829Z",
     "iopub.status.busy": "2022-02-11T10:04:10.399052Z",
     "iopub.status.idle": "2022-02-11T10:04:10.406227Z",
     "shell.execute_reply": "2022-02-11T10:04:10.406745Z",
     "shell.execute_reply.started": "2022-02-11T09:48:54.654338Z"
    },
    "papermill": {
     "duration": 0.089059,
     "end_time": "2022-02-11T10:04:10.406968",
     "exception": false,
     "start_time": "2022-02-11T10:04:10.317909",
     "status": "completed"
    },
    "tags": []
   },
   "outputs": [
    {
     "name": "stdout",
     "output_type": "stream",
     "text": [
      "Accuracy: 97.78%\n"
     ]
    }
   ],
   "source": [
    "# we can also use sklearn metrics\n",
    "acc = accuracy_score(Y_test, pred)\n",
    "print(f'Accuracy: {(acc*100).round(2)}%')"
   ]
  },
  {
   "cell_type": "markdown",
   "id": "12e7e8c5",
   "metadata": {
    "papermill": {
     "duration": 0.076747,
     "end_time": "2022-02-11T10:04:10.560794",
     "exception": false,
     "start_time": "2022-02-11T10:04:10.484047",
     "status": "completed"
    },
    "tags": []
   },
   "source": [
    "Using only 2 attributes can give 97.78% accuracy."
   ]
  },
  {
   "cell_type": "markdown",
   "id": "ef7ca9cd",
   "metadata": {
    "papermill": {
     "duration": 0.074407,
     "end_time": "2022-02-11T10:04:10.708497",
     "exception": false,
     "start_time": "2022-02-11T10:04:10.634090",
     "status": "completed"
    },
    "tags": []
   },
   "source": [
    "## Classification Report"
   ]
  },
  {
   "cell_type": "code",
   "execution_count": 25,
   "id": "013a1512",
   "metadata": {
    "execution": {
     "iopub.execute_input": "2022-02-11T10:04:10.869943Z",
     "iopub.status.busy": "2022-02-11T10:04:10.868915Z",
     "iopub.status.idle": "2022-02-11T10:04:10.880620Z",
     "shell.execute_reply": "2022-02-11T10:04:10.881328Z",
     "shell.execute_reply.started": "2022-02-11T09:48:54.663288Z"
    },
    "papermill": {
     "duration": 0.096035,
     "end_time": "2022-02-11T10:04:10.881515",
     "exception": false,
     "start_time": "2022-02-11T10:04:10.785480",
     "status": "completed"
    },
    "tags": []
   },
   "outputs": [
    {
     "name": "stdout",
     "output_type": "stream",
     "text": [
      "                 precision    recall  f1-score   support\n",
      "\n",
      "    Iris-setosa       1.00      1.00      1.00        15\n",
      "Iris-versicolor       0.94      1.00      0.97        15\n",
      " Iris-virginica       1.00      0.93      0.97        15\n",
      "\n",
      "       accuracy                           0.98        45\n",
      "      macro avg       0.98      0.98      0.98        45\n",
      "   weighted avg       0.98      0.98      0.98        45\n",
      "\n"
     ]
    }
   ],
   "source": [
    "print(classification_report(Y_test, pred))"
   ]
  },
  {
   "cell_type": "markdown",
   "id": "1a171a3f",
   "metadata": {
    "papermill": {
     "duration": 0.076867,
     "end_time": "2022-02-11T10:04:11.033890",
     "exception": false,
     "start_time": "2022-02-11T10:04:10.957023",
     "status": "completed"
    },
    "tags": []
   },
   "source": [
    "## Confusion Matrix\n",
    "- Classification accuracy alone can be misleading if there is an unequal number of observations in each class or if there are more than two classes in the dataset. \n",
    "- Calculating a confusion matrix will provide a better idea of what the classification is getting right and what types of errors it is making.\n",
    "\n",
    "Let's calculate the confusion matrix"
   ]
  },
  {
   "cell_type": "code",
   "execution_count": 26,
   "id": "27a74de8",
   "metadata": {
    "execution": {
     "iopub.execute_input": "2022-02-11T10:04:11.188811Z",
     "iopub.status.busy": "2022-02-11T10:04:11.188058Z",
     "iopub.status.idle": "2022-02-11T10:04:11.462063Z",
     "shell.execute_reply": "2022-02-11T10:04:11.462579Z",
     "shell.execute_reply.started": "2022-02-11T09:48:54.680813Z"
    },
    "papermill": {
     "duration": 0.353568,
     "end_time": "2022-02-11T10:04:11.462792",
     "exception": false,
     "start_time": "2022-02-11T10:04:11.109224",
     "status": "completed"
    },
    "tags": []
   },
   "outputs": [
    {
     "data": {
      "image/png": "[encoded data removed]",
      "text/plain": [
       "<Figure size 432x288 with 2 Axes>"
      ]
     },
     "metadata": {},
     "output_type": "display_data"
    }
   ],
   "source": [
    "species = ['Iris-setosa', 'Iris-versicolor', 'Iris-virginica']\n",
    "cm = confusion_matrix(Y_test, pred, labels=species)\n",
    "\n",
    "df_cm = pd.DataFrame(cm, index=species, columns=species)\n",
    "sns.heatmap(df_cm, annot=True, cmap='YlGnBu')\n",
    "plt.show()"
   ]
  },
  {
   "cell_type": "markdown",
   "id": "b10974f4",
   "metadata": {
    "papermill": {
     "duration": 0.073688,
     "end_time": "2022-02-11T10:04:11.610553",
     "exception": false,
     "start_time": "2022-02-11T10:04:11.536865",
     "status": "completed"
    },
    "tags": []
   },
   "source": [
    "# 8. Grid Search\n",
    "Grid search is one method for tuning hyperparameter values. For KNN, we want to tune the number of neighbors. Would using grid search give better results? Let's see. Remember, this time I use only 2 attributes."
   ]
  },
  {
   "cell_type": "markdown",
   "id": "c8550c38",
   "metadata": {
    "papermill": {
     "duration": 0.075047,
     "end_time": "2022-02-11T10:04:11.759425",
     "exception": false,
     "start_time": "2022-02-11T10:04:11.684378",
     "status": "completed"
    },
    "tags": []
   },
   "source": [
    "## Best Parameter"
   ]
  },
  {
   "cell_type": "code",
   "execution_count": 27,
   "id": "0b550c2a",
   "metadata": {
    "execution": {
     "iopub.execute_input": "2022-02-11T10:04:11.913615Z",
     "iopub.status.busy": "2022-02-11T10:04:11.912787Z",
     "iopub.status.idle": "2022-02-11T10:04:12.202617Z",
     "shell.execute_reply": "2022-02-11T10:04:12.201908Z",
     "shell.execute_reply.started": "2022-02-11T09:48:54.967091Z"
    },
    "papermill": {
     "duration": 0.367989,
     "end_time": "2022-02-11T10:04:12.202817",
     "exception": false,
     "start_time": "2022-02-11T10:04:11.834828",
     "status": "completed"
    },
    "tags": []
   },
   "outputs": [
    {
     "data": {
      "text/plain": [
       "GridSearchCV(cv=5, estimator=KNeighborsClassifier(),\n",
       "             param_grid={'n_neighbors': array([2, 3, 4, 5, 6, 7, 8, 9])})"
      ]
     },
     "execution_count": 27,
     "metadata": {},
     "output_type": "execute_result"
    }
   ],
   "source": [
    "knn_2 = KNeighborsClassifier()\n",
    "\n",
    "# create a dict of all values we want to test for n_neighbors\n",
    "param_grid = {'n_neighbors':np.arange(2,10)}\n",
    "\n",
    "# use grid search to test all values for n_neighbors\n",
    "knn_gscv = GridSearchCV(knn_2, param_grid, cv=5)\n",
    "\n",
    "knn_gscv.fit(X, Y)"
   ]
  },
  {
   "cell_type": "markdown",
   "id": "555a0241",
   "metadata": {
    "papermill": {
     "duration": 0.080964,
     "end_time": "2022-02-11T10:04:12.358709",
     "exception": false,
     "start_time": "2022-02-11T10:04:12.277745",
     "status": "completed"
    },
    "tags": []
   },
   "source": [
    "What is the best value for `n_neighbors` parameter? And how is the score?"
   ]
  },
  {
   "cell_type": "code",
   "execution_count": 28,
   "id": "9940c4bb",
   "metadata": {
    "execution": {
     "iopub.execute_input": "2022-02-11T10:04:12.517165Z",
     "iopub.status.busy": "2022-02-11T10:04:12.516208Z",
     "iopub.status.idle": "2022-02-11T10:04:12.523126Z",
     "shell.execute_reply": "2022-02-11T10:04:12.524168Z",
     "shell.execute_reply.started": "2022-02-11T09:48:55.248781Z"
    },
    "papermill": {
     "duration": 0.089957,
     "end_time": "2022-02-11T10:04:12.524540",
     "exception": false,
     "start_time": "2022-02-11T10:04:12.434583",
     "status": "completed"
    },
    "tags": []
   },
   "outputs": [
    {
     "name": "stdout",
     "output_type": "stream",
     "text": [
      "Best n_neighbors: 4\n",
      "Accuracy: 96.67%\n"
     ]
    }
   ],
   "source": [
    "best_n = knn_gscv.best_params_['n_neighbors']\n",
    "acc = knn_gscv.best_score_\n",
    "\n",
    "print(f'Best n_neighbors: {best_n}')\n",
    "print(f'Accuracy: {(acc*100).round(2)}%')"
   ]
  },
  {
   "cell_type": "markdown",
   "id": "715807ad",
   "metadata": {
    "papermill": {
     "duration": 0.078347,
     "end_time": "2022-02-11T10:04:12.683420",
     "exception": false,
     "start_time": "2022-02-11T10:04:12.605073",
     "status": "completed"
    },
    "tags": []
   },
   "source": [
    "## Model with Best Parameter\n",
    "Let's try to build our new KNN model using best parameter from grid search."
   ]
  },
  {
   "cell_type": "code",
   "execution_count": 29,
   "id": "6297be92",
   "metadata": {
    "execution": {
     "iopub.execute_input": "2022-02-11T10:04:12.842170Z",
     "iopub.status.busy": "2022-02-11T10:04:12.841406Z",
     "iopub.status.idle": "2022-02-11T10:04:13.145461Z",
     "shell.execute_reply": "2022-02-11T10:04:13.146010Z",
     "shell.execute_reply.started": "2022-02-11T09:48:55.256354Z"
    },
    "papermill": {
     "duration": 0.385529,
     "end_time": "2022-02-11T10:04:13.146244",
     "exception": false,
     "start_time": "2022-02-11T10:04:12.760715",
     "status": "completed"
    },
    "tags": []
   },
   "outputs": [
    {
     "name": "stdout",
     "output_type": "stream",
     "text": [
      "Accuracy: 97.78%\n"
     ]
    },
    {
     "data": {
      "image/png": "[encoded data removed]",
      "text/plain": [
       "<Figure size 432x288 with 2 Axes>"
      ]
     },
     "metadata": {},
     "output_type": "display_data"
    }
   ],
   "source": [
    "knn_gs = KNeighborsClassifier(n_neighbors=best_n)\n",
    "knn_gs.fit(X_train, Y_train)\n",
    "pred_gs = knn_gs.predict(X_test)\n",
    "\n",
    "acc = knn_gs.score(X_test,Y_test)\n",
    "print(f'Accuracy: {(acc*100).round(2)}%')\n",
    "\n",
    "species = ['Iris-setosa', 'Iris-versicolor', 'Iris-virginica']\n",
    "cm_gs = confusion_matrix(Y_test, pred_gs, labels=species)\n",
    "\n",
    "df_cm_gs = pd.DataFrame(cm_gs, index=species, columns=species)\n",
    "sns.heatmap(df_cm_gs, annot=True, cmap='YlGnBu')\n",
    "plt.show()"
   ]
  },
  {
   "cell_type": "markdown",
   "id": "badf5e8a",
   "metadata": {
    "papermill": {
     "duration": 0.078785,
     "end_time": "2022-02-11T10:04:13.305825",
     "exception": false,
     "start_time": "2022-02-11T10:04:13.227040",
     "status": "completed"
    },
    "tags": []
   },
   "source": [
    "Using grid search, our model performance is not improved."
   ]
  },
  {
   "cell_type": "markdown",
   "id": "14b5a5a4",
   "metadata": {
    "papermill": {
     "duration": 0.078777,
     "end_time": "2022-02-11T10:04:13.463976",
     "exception": false,
     "start_time": "2022-02-11T10:04:13.385199",
     "status": "completed"
    },
    "tags": []
   },
   "source": [
    "# 9. Using All Attributes\n",
    "We have tried to use 2 attributes and use grid search. But both can't get 100% accuracy. How about using all the attributes?"
   ]
  },
  {
   "cell_type": "code",
   "execution_count": 30,
   "id": "0ac8ada5",
   "metadata": {
    "execution": {
     "iopub.execute_input": "2022-02-11T10:04:13.624589Z",
     "iopub.status.busy": "2022-02-11T10:04:13.623483Z",
     "iopub.status.idle": "2022-02-11T10:04:13.928645Z",
     "shell.execute_reply": "2022-02-11T10:04:13.927917Z",
     "shell.execute_reply.started": "2022-02-11T09:48:55.554811Z"
    },
    "papermill": {
     "duration": 0.386817,
     "end_time": "2022-02-11T10:04:13.928831",
     "exception": false,
     "start_time": "2022-02-11T10:04:13.542014",
     "status": "completed"
    },
    "tags": []
   },
   "outputs": [
    {
     "name": "stdout",
     "output_type": "stream",
     "text": [
      "Accuracy: 97.78%\n"
     ]
    },
    {
     "data": {
      "image/png": "[encoded data removed]",
      "text/plain": [
       "<Figure size 432x288 with 2 Axes>"
      ]
     },
     "metadata": {},
     "output_type": "display_data"
    }
   ],
   "source": [
    "column_list = ['sepal_len', 'sepal_wd', 'petal_len', 'petal_wd']\n",
    "\n",
    "X = data[column_list]\n",
    "Y = data['species']\n",
    "\n",
    "X_train, X_test, Y_train, Y_test = train_test_split(X, Y, test_size=0.3, random_state=1, stratify=Y)\n",
    "\n",
    "# use 5 neighors\n",
    "knn_all = KNeighborsClassifier(n_neighbors=5)\n",
    "\n",
    "# train the model\n",
    "knn_all.fit(X_train, Y_train)\n",
    "\n",
    "pred_all = knn_all.predict(X_test)\n",
    "\n",
    "acc = knn_all.score(X_test,Y_test)\n",
    "print(f'Accuracy: {(acc*100).round(2)}%')\n",
    "\n",
    "species = ['Iris-setosa', 'Iris-versicolor', 'Iris-virginica']\n",
    "cm_all = confusion_matrix(Y_test, pred_all, labels=species)\n",
    "\n",
    "df_cm_all = pd.DataFrame(cm_all, index=species, columns=species)\n",
    "sns.heatmap(df_cm_all, annot=True, cmap='YlGnBu')\n",
    "plt.show()"
   ]
  },
  {
   "cell_type": "markdown",
   "id": "6342055f",
   "metadata": {
    "papermill": {
     "duration": 0.079278,
     "end_time": "2022-02-11T10:04:14.090204",
     "exception": false,
     "start_time": "2022-02-11T10:04:14.010926",
     "status": "completed"
    },
    "tags": []
   },
   "source": [
    "We still can't get 100% accuracy."
   ]
  },
  {
   "cell_type": "markdown",
   "id": "e6145cb7",
   "metadata": {
    "papermill": {
     "duration": 0.076901,
     "end_time": "2022-02-11T10:04:14.244220",
     "exception": false,
     "start_time": "2022-02-11T10:04:14.167319",
     "status": "completed"
    },
    "tags": []
   },
   "source": [
    "# 10. 100% Accuracy\n",
    "Using KNN with 2 attributes or all attributes give the same result. We still can't reach 100% accuracy. I've seen other people works using KNN, some of them can get 100% accuracy. Some of them didn't use `stratify` parameter and use only 20% for the test set.\n",
    "\n",
    "I've tried to not use `stratify` and use only 20% data for the test set. Yes it can give 100% accuracy, but in my opinion, it's not a really good thing since the model training is not using balanced species distribution. Want to try it?"
   ]
  },
  {
   "cell_type": "code",
   "execution_count": 31,
   "id": "43806236",
   "metadata": {
    "execution": {
     "iopub.execute_input": "2022-02-11T10:04:14.410934Z",
     "iopub.status.busy": "2022-02-11T10:04:14.409884Z",
     "iopub.status.idle": "2022-02-11T10:04:14.695243Z",
     "shell.execute_reply": "2022-02-11T10:04:14.694600Z",
     "shell.execute_reply.started": "2022-02-11T09:50:24.324721Z"
    },
    "papermill": {
     "duration": 0.369302,
     "end_time": "2022-02-11T10:04:14.695388",
     "exception": false,
     "start_time": "2022-02-11T10:04:14.326086",
     "status": "completed"
    },
    "tags": []
   },
   "outputs": [
    {
     "name": "stdout",
     "output_type": "stream",
     "text": [
      "Accuracy: 100.0%\n"
     ]
    },
    {
     "data": {
      "image/png": "[encoded data removed]",
      "text/plain": [
       "<Figure size 432x288 with 2 Axes>"
      ]
     },
     "metadata": {},
     "output_type": "display_data"
    }
   ],
   "source": [
    "column_list = ['sepal_len', 'sepal_wd', 'petal_len', 'petal_wd']\n",
    "\n",
    "X = data[column_list]\n",
    "Y = data['species']\n",
    "\n",
    "X_train, X_test, Y_train, Y_test = train_test_split(X, Y, test_size=0.2, random_state=1)\n",
    "\n",
    "# use 5 neighors\n",
    "knn_all = KNeighborsClassifier(n_neighbors=5)\n",
    "\n",
    "# train the model\n",
    "knn_all.fit(X_train, Y_train)\n",
    "pred_all = knn_all.predict(X_test)\n",
    "\n",
    "acc = knn_all.score(X_test,Y_test)\n",
    "print(f'Accuracy: {(acc*100).round(2)}%')\n",
    "\n",
    "species = ['Iris-setosa', 'Iris-versicolor', 'Iris-virginica']\n",
    "cm_all = confusion_matrix(Y_test, pred_all, labels=species)\n",
    "\n",
    "df_cm_all = pd.DataFrame(cm_all, index=species, columns=species)\n",
    "sns.heatmap(df_cm_all, annot=True, cmap='YlGnBu')\n",
    "plt.show()"
   ]
  },
  {
   "cell_type": "markdown",
   "id": "3b0a25bf",
   "metadata": {
    "papermill": {
     "duration": 0.084095,
     "end_time": "2022-02-11T10:04:14.858851",
     "exception": false,
     "start_time": "2022-02-11T10:04:14.774756",
     "status": "completed"
    },
    "tags": []
   },
   "source": [
    "You can see that the accuracy is 100%. But the species distribution is not balanced."
   ]
  },
  {
   "cell_type": "markdown",
   "id": "afbd997d",
   "metadata": {
    "papermill": {
     "duration": 0.083714,
     "end_time": "2022-02-11T10:04:15.027646",
     "exception": false,
     "start_time": "2022-02-11T10:04:14.943932",
     "status": "completed"
    },
    "tags": []
   },
   "source": [
    "# 11. Closing\n",
    "I can't get 100% accuracy using KNN. But 97.78% is not a bad performance. Maybe we can use another machine learning algorithm such as decision tree, SVM, or even neural network.\n",
    "\n",
    "Anyway, thank you for reading this project. If you like this notebook, you can support me by giving an upvote :)"
   ]
  }
 ],
 "metadata": {
  "kernelspec": {
   "display_name": "Python 3",
   "language": "python",
   "name": "python3"
  },
  "language_info": {
   "codemirror_mode": {
    "name": "ipython",
    "version": 3
   },
   "file_extension": ".py",
   "mimetype": "text/x-python",
   "name": "python",
   "nbconvert_exporter": "python",
   "pygments_lexer": "ipython3",
   "version": "3.7.12"
  },
  "papermill": {
   "default_parameters": {},
   "duration": 33.415194,
   "end_time": "2022-02-11T10:04:16.244094",
   "environment_variables": {},
   "exception": null,
   "input_path": "__notebook__.ipynb",
   "output_path": "__notebook__.ipynb",
   "parameters": {},
   "start_time": "2022-02-11T10:03:42.828900",
   "version": "2.3.3"
  }
 },
 "nbformat": 4,
 "nbformat_minor": 5
}
